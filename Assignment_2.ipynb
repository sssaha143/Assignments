{
 "cells": [
  {
   "cell_type": "markdown",
   "metadata": {},
   "source": [
    "# Assignment 2"
   ]
  },
  {
   "cell_type": "markdown",
   "metadata": {},
   "source": [
    "## Task 1:"
   ]
  },
  {
   "cell_type": "markdown",
   "metadata": {},
   "source": [
    "1.1 Write a Python Program to implement your own myreduce() function which works exactly like\n",
    "Python's built-in function reduce()"
   ]
  },
  {
   "cell_type": "code",
   "execution_count": 60,
   "metadata": {},
   "outputs": [
    {
     "name": "stdout",
     "output_type": "stream",
     "text": [
      "Please enter your list : 1 2 3 4\n",
      "Here is the list : [1, 2, 3, 4]\n",
      "The sum of list is 10\n"
     ]
    }
   ],
   "source": [
    "listA = input(\"Please enter your list : \" )\n",
    "listB = listA.split()\n",
    "listB = [int(listB[i]) for i in range(0,len(listB))]\n",
    "\n",
    "print(\"Here is the list : \" + str(listB))\n",
    "def myreduce(fun,seq):\n",
    "    ans = seq[0]\n",
    "    for i in seq[1:]:\n",
    "        ans = fun(ans,i)\n",
    "    return ans\n",
    "    print(ans)\n",
    "        \n",
    "def sum(x,y):\n",
    "    return x+y\n",
    "\n",
    "print(\"The sum of list is %d\" %myreduce(sum,listB))\n"
   ]
  },
  {
   "cell_type": "markdown",
   "metadata": {
    "scrolled": true
   },
   "source": [
    "2. Implement List comprehensions to produce the following lists. \n",
    "Write List comprehensions to produce the following Lists :\n",
    "    ['A', 'C', 'A', 'D', 'G', 'I', ’L’, ‘ D’]\n",
    "    ['x', 'xx', 'xxx', 'xxxx', 'y', 'yy', 'yyy', 'yyyy', 'z', 'zz', 'zzz', 'zzzz']\n",
    "    ['x', 'y', 'z', 'xx', 'yy', 'zz', 'xx', 'yy', 'zz', 'xxxx', 'yyyy', 'zzzz']\n",
    "    [[2], [3], [4], [3], [4], [5], [4], [5], [6]]\n",
    "    [[2, 3, 4, 5], [3, 4, 5, 6], [4, 5, 6, 7], [5, 6, 7, 8]]\n",
    "    [(1, 1), (2, 1), (3, 1), (1, 2), (2, 2), (3, 2), (1, 3), (2, 3), (3, 3)]"
   ]
  },
  {
   "cell_type": "code",
   "execution_count": 61,
   "metadata": {},
   "outputs": [
    {
     "data": {
      "text/plain": [
       "{0: 0, 1: 1, 2: 4, 3: 9, 4: 16, 5: 25, 6: 36, 7: 49, 8: 64, 9: 81}"
      ]
     },
     "execution_count": 61,
     "metadata": {},
     "output_type": "execute_result"
    }
   ],
   "source": [
    "# for test\n",
    "{x:x**2 for x in range(10)}\n"
   ]
  },
  {
   "cell_type": "code",
   "execution_count": 62,
   "metadata": {
    "scrolled": false
   },
   "outputs": [
    {
     "name": "stdout",
     "output_type": "stream",
     "text": [
      "ACADGILD => ['A', 'C', 'A', 'D', 'G', 'I', 'L', 'D']\n"
     ]
    }
   ],
   "source": [
    "# ['A', 'C', 'A', 'D', 'G', 'I', ’L’, ‘ D’]\n",
    "alphabet_list = [ x for x in \"ACADGILD\" ]\n",
    "print (\"ACADGILD => \" + str(alphabet_list))"
   ]
  },
  {
   "cell_type": "code",
   "execution_count": 63,
   "metadata": {},
   "outputs": [
    {
     "name": "stdout",
     "output_type": "stream",
     "text": [
      "xyz => ['x', 'xx', 'xxx', 'xxxx', 'y', 'yy', 'yyy', 'yyyy', 'z', 'zz', 'zzz', 'zzzz']\n"
     ]
    }
   ],
   "source": [
    "#['x', 'xx', 'xxx', 'xxxx', 'y', 'yy', 'yyy', 'yyyy', 'z', 'zz', 'zzz', 'zzzz']\n",
    "\n",
    "a = 'xyz'\n",
    "b = [x*y for y in a for x in range(1,5)]\n",
    "\n",
    "print(\"xyz => \" + str(b))"
   ]
  },
  {
   "cell_type": "code",
   "execution_count": 64,
   "metadata": {},
   "outputs": [
    {
     "name": "stdout",
     "output_type": "stream",
     "text": [
      "xyz => ['x', 'y', 'z', 'xx', 'yy', 'zz', 'xxx', 'yyy', 'zzz', 'xxxx', 'yyyy', 'zzzz']\n"
     ]
    }
   ],
   "source": [
    "#['x', 'y', 'z', 'xx', 'yy', 'zz', 'xx', 'yy', 'zz', 'xxxx', 'yyyy', 'zzzz']\n",
    "\n",
    "test1 = [x*y for x in range(1,5) for y in \"xyz\"]\n",
    "print(\"xyz => \" + str(test1))"
   ]
  },
  {
   "cell_type": "code",
   "execution_count": 65,
   "metadata": {},
   "outputs": [
    {
     "name": "stdout",
     "output_type": "stream",
     "text": [
      "[2,3,4] => [[2], [3], [4], [3], [4], [5], [4], [5], [6]]\n"
     ]
    }
   ],
   "source": [
    "#[[2], [3], [4], [3], [4], [5], [4], [5], [6]]\n",
    "\n",
    "num_list = [[x+y] for x in [2,3,4] for y in range(0,3)]\n",
    "print(\"[2,3,4] => \" + str(num_list))"
   ]
  },
  {
   "cell_type": "code",
   "execution_count": 66,
   "metadata": {},
   "outputs": [
    {
     "name": "stdout",
     "output_type": "stream",
     "text": [
      "[2,3,4] =>[[2, 3, 4, 5], [3, 4, 5, 6], [4, 5, 6, 7], [5, 6, 7, 8]]\n"
     ]
    }
   ],
   "source": [
    "#[[2, 3, 4, 5], [3, 4, 5, 6], [4, 5, 6, 7], [5, 6, 7, 8]]\n",
    " \n",
    "result = [ [item+num for item in [2,3,4,5]] for num in range(0,4)]\n",
    "print(\"[2,3,4] =>\" +  str(result))"
   ]
  },
  {
   "cell_type": "code",
   "execution_count": 67,
   "metadata": {},
   "outputs": [
    {
     "name": "stdout",
     "output_type": "stream",
     "text": [
      "[1,2,3] => [(1, 1), (2, 1), (3, 1), (1, 2), (2, 2), (3, 2), (1, 3), (2, 3), (3, 3)]\n"
     ]
    }
   ],
   "source": [
    "#[(1, 1), (2, 1), (3, 1), (1, 2), (2, 2), (3, 2), (1, 3), (2, 3), (3, 3)]\n",
    "\n",
    "xx = [1,2,3]\n",
    "yy = [(x,y) for y in xx for x in xx ]\n",
    "print(\"[1,2,3] => \" + str(yy))"
   ]
  },
  {
   "cell_type": "markdown",
   "metadata": {},
   "source": [
    "3. Implement a function longestWord() that takes a list of words and returns the longest one."
   ]
  },
  {
   "cell_type": "code",
   "execution_count": 72,
   "metadata": {},
   "outputs": [
    {
     "name": "stdout",
     "output_type": "stream",
     "text": [
      "('Exercises', 9)\n"
     ]
    }
   ],
   "source": [
    "def longestWord(words_list):\n",
    "    word_len = []\n",
    "    for n in words_list:\n",
    "        word_len.append((len(n), n))\n",
    "    word_len.sort()\n",
    "    return word_len[-1][1], word_len[-1][0]\n",
    "\n",
    "print(longestWord([\"PHP\", \"Exercises\", \"Backend\"]))"
   ]
  },
  {
   "cell_type": "code",
   "execution_count": 77,
   "metadata": {},
   "outputs": [
    {
     "name": "stdout",
     "output_type": "stream",
     "text": [
      "subhajit 8\n"
     ]
    }
   ],
   "source": [
    "word = [\"my\",\"name\",\"is\",\"subhajit\"]\n",
    "\n",
    "word_len = []\n",
    "for i in range(0,len(word)):\n",
    "    word_len.append((word[i],len(word[i])))\n",
    "word_len.sort()\n",
    "print(word_len[-1][0], word_len[-1][1])"
   ]
  },
  {
   "cell_type": "markdown",
   "metadata": {},
   "source": [
    "## Task 2:"
   ]
  },
  {
   "cell_type": "markdown",
   "metadata": {},
   "source": [
    "1.1 Write a Python Program(with class concepts) to find the area of the triangle using the below\n",
    "formula.\n",
    "area = (s*(s-a)*(s-b)*(s-c)) ** 0.5\n",
    "Function to take the length of the sides of triangle from user should be defined in the parent\n",
    "class and function to calculate the area should be defined in subclass."
   ]
  },
  {
   "cell_type": "code",
   "execution_count": 78,
   "metadata": {},
   "outputs": [
    {
     "name": "stdout",
     "output_type": "stream",
     "text": [
      "The Area of Triangle is 6\n"
     ]
    }
   ],
   "source": [
    "class triangle:\n",
    "    def __init__(self,a,b,c):\n",
    "        self.a,self.b,self.c = a,b,c\n",
    "        \n",
    "    def area(self):\n",
    "        s = (self.a + self.b + self.c)/2\n",
    "        area = (s*(s - self.a)*(s - self.b)*(s - self.c))**0.5\n",
    "        return \"The Area of Triangle is %d\" % (area)\n",
    "    \n",
    "area = triangle(3,4,5)\n",
    "print(area.area())"
   ]
  },
  {
   "cell_type": "code",
   "execution_count": 79,
   "metadata": {},
   "outputs": [
    {
     "name": "stdout",
     "output_type": "stream",
     "text": [
      "The Area of Triangle is 6\n"
     ]
    }
   ],
   "source": [
    "class side:\n",
    "    \n",
    "    def __init__(self, n):\n",
    "        self.n = n\n",
    "        \n",
    "class triangle(side):\n",
    "\n",
    "    def __init__(self,length):\n",
    "        side.__init__(self,3)\n",
    "        self.lenght = length\n",
    "             \n",
    "    def area(self):\n",
    "        a,b,c = self.lenght\n",
    "        s = (a + b + c)/2\n",
    "        area = (s*(s - a)*(s - b)*(s - c))**0.5\n",
    "        return \"The Area of Triangle is %d\" % (area)\n",
    "        \n",
    "    \n",
    "area = triangle([3,4,5]) \n",
    "print(area.area())\n"
   ]
  },
  {
   "cell_type": "markdown",
   "metadata": {},
   "source": [
    " 1.2 Write a function filter_long_words() that takes a list of words and an integer n and returns the list\n",
    "of words that are longer than n."
   ]
  },
  {
   "cell_type": "code",
   "execution_count": 1,
   "metadata": {},
   "outputs": [
    {
     "name": "stdout",
     "output_type": "stream",
     "text": [
      "Please enter a number : 2\n",
      "Please enter list of word : my name is shubhajit\n",
      "Done\n",
      "The word longer than 2 are my,name,is,shubhajit \n"
     ]
    }
   ],
   "source": [
    "def filter_long_words(word,n):\n",
    "    list = []\n",
    "    if len(word) > n:\n",
    "        for i in word:\n",
    "            list1 = list.append(i)\n",
    "        return list\n",
    "    else:\n",
    "        list1 = list.append(int(0))\n",
    "        return list\n",
    "        \n",
    "    \n",
    "    \n",
    "def main():\n",
    "    try:\n",
    "\n",
    "        num = int(input(\"Please enter a number : \"))\n",
    "        words = input(\"Please enter list of word : \").split()\n",
    "        return \"The word longer than %d are %s \" % (num,\",\".join(filter_long_words(words,num)))\n",
    "    except:\n",
    "        return \"Something went wrong!\"\n",
    "    finally:\n",
    "        print(\"Done\")\n",
    "  \n",
    "       \n",
    "print(main())  \n",
    "\n"
   ]
  },
  {
   "cell_type": "code",
   "execution_count": 3,
   "metadata": {},
   "outputs": [
    {
     "name": "stdout",
     "output_type": "stream",
     "text": [
      "Enter the list of words : my name is subhajit\n",
      "Please enter integer : 2\n",
      "The list of words greater than the integer is  my,name,is,subhajit\n"
     ]
    }
   ],
   "source": [
    "def filter_long_words(word,n):\n",
    "    return [i for i in word if len(word) > n]\n",
    "\n",
    "def main():\n",
    "    words = input(\"Enter the list of words : \").split()\n",
    "    nu = int(input(\"Please enter integer : \"))\n",
    "    #return 'The list of words greater than the integer is ', (','.join(filter_long_words(words,nu)))\n",
    "    print('The list of words greater than the integer is ', ','.join(filter_long_words(words,nu)))\n",
    "\n",
    "main()"
   ]
  },
  {
   "cell_type": "markdown",
   "metadata": {},
   "source": [
    "2.1 Write a Python program using function concept that maps list of words into a list of integers\n",
    "representing the lengths of the corresponding words .\n",
    "Hint: If a list [ ab,cde,erty] is passed on to the python function output should come as [2,3,4]\n",
    "Here 2,3 and 4 are the lengths of the words in the list."
   ]
  },
  {
   "cell_type": "code",
   "execution_count": 6,
   "metadata": {},
   "outputs": [
    {
     "name": "stdout",
     "output_type": "stream",
     "text": [
      "[2, 3, 4]\n"
     ]
    }
   ],
   "source": [
    "lstA = [\"ab\",\"cde\",\"erty\"]\n",
    "\n",
    "def lenght_of_word(wordlist):\n",
    "    int_lst = []\n",
    "    for x in lstA:\n",
    "        int_lst.append(len(x))\n",
    "    return int_lst\n",
    "  \n",
    "result = lenght_of_word(lstA)\n",
    "print(result)\n",
    "\n",
    "\n",
    "\n"
   ]
  },
  {
   "cell_type": "code",
   "execution_count": 7,
   "metadata": {},
   "outputs": [
    {
     "name": "stdout",
     "output_type": "stream",
     "text": [
      "[2, 3, 4]\n"
     ]
    }
   ],
   "source": [
    "listB = [\"ab\",\"cde\",\"erty\"]\n",
    "int_lst = []\n",
    "for x in listB:\n",
    "    int_lst.append(len(x))\n",
    "print(int_lst)"
   ]
  },
  {
   "cell_type": "code",
   "execution_count": 8,
   "metadata": {},
   "outputs": [
    {
     "name": "stdout",
     "output_type": "stream",
     "text": [
      "[2, 3, 4]\n"
     ]
    }
   ],
   "source": [
    "def map_to_lengths_lists(words):\n",
    "    A = list(map(len, words))\n",
    "    return A\n",
    "\n",
    "lst = [\"ab\",\"cde\",\"erty\"]\n",
    "print(map_to_lengths_lists(lst))"
   ]
  },
  {
   "cell_type": "code",
   "execution_count": 9,
   "metadata": {},
   "outputs": [
    {
     "name": "stdout",
     "output_type": "stream",
     "text": [
      "[2, 3, 4]\n"
     ]
    }
   ],
   "source": [
    "def map_to_lengths_map(words):\n",
    "    A = list(map(len, words))\n",
    "    return A\n",
    "word = [\"ab\",\"cde\",\"erty\"]\n",
    "print(map_to_lengths_map(word))"
   ]
  },
  {
   "cell_type": "code",
   "execution_count": 10,
   "metadata": {},
   "outputs": [
    {
     "name": "stdout",
     "output_type": "stream",
     "text": [
      "[2, 3, 4]\n"
     ]
    }
   ],
   "source": [
    "def map_to_lengths_map(words):\n",
    "    A = list(map(len, words))\n",
    "    return A\n",
    "word = [\"ab\",\"cde\",\"erty\"]\n",
    "print(map_to_lengths_map(word))"
   ]
  }
 ],
 "metadata": {
  "kernelspec": {
   "display_name": "Python 3",
   "language": "python",
   "name": "python3"
  },
  "language_info": {
   "codemirror_mode": {
    "name": "ipython",
    "version": 3
   },
   "file_extension": ".py",
   "mimetype": "text/x-python",
   "name": "python",
   "nbconvert_exporter": "python",
   "pygments_lexer": "ipython3",
   "version": "3.7.4"
  }
 },
 "nbformat": 4,
 "nbformat_minor": 2
}
